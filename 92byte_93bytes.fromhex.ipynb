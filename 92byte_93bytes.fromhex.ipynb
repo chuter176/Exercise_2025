{
  "nbformat": 4,
  "nbformat_minor": 0,
  "metadata": {
    "colab": {
      "provenance": [],
      "authorship_tag": "ABX9TyMlPbaCqC1IrdqBkallrvdZ",
      "include_colab_link": true
    },
    "kernelspec": {
      "name": "python3",
      "display_name": "Python 3"
    },
    "language_info": {
      "name": "python"
    }
  },
  "cells": [
    {
      "cell_type": "markdown",
      "metadata": {
        "id": "view-in-github",
        "colab_type": "text"
      },
      "source": [
        "<a href=\"https://colab.research.google.com/github/chuter176/Exercise_2025/blob/main/92byte_93bytes.fromhex.ipynb\" target=\"_parent\"><img src=\"https://colab.research.google.com/assets/colab-badge.svg\" alt=\"Open In Colab\"/></a>"
      ]
    },
    {
      "cell_type": "markdown",
      "source": [
        "byte"
      ],
      "metadata": {
        "id": "iU_nrKZiaRyg"
      }
    },
    {
      "cell_type": "code",
      "execution_count": 3,
      "metadata": {
        "colab": {
          "base_uri": "https://localhost:8080/"
        },
        "id": "4j2PWUYiW_hL",
        "outputId": "b8f11ec2-9ede-405e-f61c-fd7c4a55efbd"
      },
      "outputs": [
        {
          "output_type": "stream",
          "name": "stdout",
          "text": [
            "False\n"
          ]
        }
      ],
      "source": [
        "strData = 'python'\n",
        "bytesData = b'python'\n",
        "print(strData[0]==bytesData[0])"
      ]
    },
    {
      "cell_type": "code",
      "source": [
        "bytesData1 = b'python'\n",
        "bytesData2 = b'파이썬'"
      ],
      "metadata": {
        "colab": {
          "base_uri": "https://localhost:8080/",
          "height": 110
        },
        "id": "b8T4pfuUalGP",
        "outputId": "808418aa-2b97-4280-95c1-82b2def7e8d2"
      },
      "execution_count": 4,
      "outputs": [
        {
          "output_type": "error",
          "ename": "SyntaxError",
          "evalue": "bytes can only contain ASCII literal characters (ipython-input-1563447335.py, line 2)",
          "traceback": [
            "\u001b[0;36m  File \u001b[0;32m\"/tmp/ipython-input-1563447335.py\"\u001b[0;36m, line \u001b[0;32m2\u001b[0m\n\u001b[0;31m    bytesData2 = b'파이썬'\u001b[0m\n\u001b[0m                 ^\u001b[0m\n\u001b[0;31mSyntaxError\u001b[0m\u001b[0;31m:\u001b[0m bytes can only contain ASCII literal characters\n"
          ]
        }
      ]
    },
    {
      "cell_type": "code",
      "source": [
        "bytesData = '파이썬'.encode()\n",
        "print(bytesData)"
      ],
      "metadata": {
        "colab": {
          "base_uri": "https://localhost:8080/"
        },
        "id": "9_cTrlYwa22_",
        "outputId": "e04b37f7-f1cd-439c-fe01-62d9229d44ea"
      },
      "execution_count": 5,
      "outputs": [
        {
          "output_type": "stream",
          "name": "stdout",
          "text": [
            "b'\\xed\\x8c\\x8c\\xec\\x9d\\xb4\\xec\\x8d\\xac'\n"
          ]
        }
      ]
    },
    {
      "cell_type": "code",
      "source": [
        "bytesData = bytes('사랑해요 python!','utf-8')\n",
        "print(bytesData)"
      ],
      "metadata": {
        "colab": {
          "base_uri": "https://localhost:8080/"
        },
        "id": "afcYLOZ2a_zO",
        "outputId": "4bde4c69-7f29-4029-af2d-ef0d2adb8565"
      },
      "execution_count": 6,
      "outputs": [
        {
          "output_type": "stream",
          "name": "stdout",
          "text": [
            "b'\\xec\\x82\\xac\\xeb\\x9e\\x91\\xed\\x95\\xb4\\xec\\x9a\\x94 python!'\n"
          ]
        }
      ]
    },
    {
      "cell_type": "markdown",
      "source": [
        "bytes.formhex"
      ],
      "metadata": {
        "id": "48FtXru3bQn_"
      }
    },
    {
      "cell_type": "code",
      "source": [
        "bytesData = bytes.fromhex('50 79 74 68 6f 6e f8 fa')\n",
        "print(bytesData)"
      ],
      "metadata": {
        "colab": {
          "base_uri": "https://localhost:8080/"
        },
        "id": "D5gTN3IobUl2",
        "outputId": "d9b4aacb-6cdc-4772-afb9-6ba5a0dd5860"
      },
      "execution_count": 9,
      "outputs": [
        {
          "output_type": "stream",
          "name": "stdout",
          "text": [
            "b'Python\\xf8\\xfa'\n"
          ]
        }
      ]
    }
  ]
}