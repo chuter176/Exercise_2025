{
  "nbformat": 4,
  "nbformat_minor": 0,
  "metadata": {
    "colab": {
      "provenance": [],
      "authorship_tag": "ABX9TyMCzCA8md/QdMPM1lqA1wqu",
      "include_colab_link": true
    },
    "kernelspec": {
      "name": "python3",
      "display_name": "Python 3"
    },
    "language_info": {
      "name": "python"
    }
  },
  "cells": [
    {
      "cell_type": "markdown",
      "metadata": {
        "id": "view-in-github",
        "colab_type": "text"
      },
      "source": [
        "<a href=\"https://colab.research.google.com/github/chuter176/Exercise_2025/blob/main/82str.split_83str.strip.ipynb\" target=\"_parent\"><img src=\"https://colab.research.google.com/assets/colab-badge.svg\" alt=\"Open In Colab\"/></a>"
      ]
    },
    {
      "cell_type": "markdown",
      "source": [
        "str.split"
      ],
      "metadata": {
        "id": "-yOOvGgx30Xk"
      }
    },
    {
      "cell_type": "code",
      "execution_count": 1,
      "metadata": {
        "colab": {
          "base_uri": "https://localhost:8080/"
        },
        "id": "g2kKaILF3z4W",
        "outputId": "9ce38316-4eb7-4de5-c8bd-2e152343efe2"
      },
      "outputs": [
        {
          "output_type": "stream",
          "name": "stdout",
          "text": [
            "['홍길동;남자;18세;도적;초능력자']\n"
          ]
        }
      ],
      "source": [
        "logData = '홍길동;남자;18세;도적;초능력자'\n",
        "profile = logData.split(':')\n",
        "print(profile)"
      ]
    },
    {
      "cell_type": "code",
      "source": [
        "text = '나는 파이썬을 사랑합니다.'\n",
        "print(text.split())"
      ],
      "metadata": {
        "colab": {
          "base_uri": "https://localhost:8080/"
        },
        "id": "kpX0RHBz4N1r",
        "outputId": "231ce566-907c-4271-c357-4d68591f1b07"
      },
      "execution_count": 2,
      "outputs": [
        {
          "output_type": "stream",
          "name": "stdout",
          "text": [
            "['나는', '파이썬을', '사랑합니다.']\n"
          ]
        }
      ]
    },
    {
      "cell_type": "code",
      "source": [
        "profile = '이름:홍길동 나이:18세 성별:남자 국적:조선 직업:도적 특기:초능력'\n",
        "for data in profile.split():\n",
        "  key, val = data.split(':')\n",
        "  print(f'{key} --> {val}')"
      ],
      "metadata": {
        "colab": {
          "base_uri": "https://localhost:8080/"
        },
        "id": "dZnqBsXT4YAL",
        "outputId": "1db7747c-9d04-4c3d-cd1e-4cae56d6cc60"
      },
      "execution_count": 7,
      "outputs": [
        {
          "output_type": "stream",
          "name": "stdout",
          "text": [
            "이름 --> 홍길동\n",
            "나이 --> 18세\n",
            "성별 --> 남자\n",
            "국적 --> 조선\n",
            "직업 --> 도적\n",
            "특기 --> 초능력\n"
          ]
        }
      ]
    },
    {
      "cell_type": "markdown",
      "source": [
        "str.strip"
      ],
      "metadata": {
        "id": "Nkv3L-iO5V5b"
      }
    },
    {
      "cell_type": "code",
      "source": [
        "text = ' 이 문장의 양쪽에는 공백이 있습니다.  '\n",
        "print(f'<{text.strip()}>')\n",
        "print(f'<{text.lstrip()}>')\n",
        "print(f'<{text.rstrip()}>')"
      ],
      "metadata": {
        "colab": {
          "base_uri": "https://localhost:8080/"
        },
        "id": "i9Gu0skT5aRT",
        "outputId": "1c9d101d-59b7-4c4b-ed02-90e6bf229633"
      },
      "execution_count": 8,
      "outputs": [
        {
          "output_type": "stream",
          "name": "stdout",
          "text": [
            "<이 문장의 양쪽에는 공백이 있습니다.>\n",
            "<이 문장의 양쪽에는 공백이 있습니다.  >\n",
            "< 이 문장의 양쪽에는 공백이 있습니다.>\n"
          ]
        }
      ]
    },
    {
      "cell_type": "code",
      "source": [
        "url = 'www.python.com'\n",
        "print(url.strip('cmow.'))"
      ],
      "metadata": {
        "colab": {
          "base_uri": "https://localhost:8080/"
        },
        "id": "RLzCER0I52Li",
        "outputId": "6923e072-0c78-43ff-e1f1-83f158ed7ede"
      },
      "execution_count": 11,
      "outputs": [
        {
          "output_type": "stream",
          "name": "stdout",
          "text": [
            "python\n"
          ]
        }
      ]
    },
    {
      "cell_type": "code",
      "source": [
        "print(url.lstrip('cmow.'))\n",
        "print(url.rstrip('cmow.'))"
      ],
      "metadata": {
        "colab": {
          "base_uri": "https://localhost:8080/"
        },
        "id": "RnpOP5Ug6H_b",
        "outputId": "23848d32-1fcc-4f93-a681-0dfe93dc536b"
      },
      "execution_count": 12,
      "outputs": [
        {
          "output_type": "stream",
          "name": "stdout",
          "text": [
            "python.com\n",
            "www.python\n"
          ]
        }
      ]
    }
  ]
}