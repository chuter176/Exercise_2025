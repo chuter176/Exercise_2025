{
  "nbformat": 4,
  "nbformat_minor": 0,
  "metadata": {
    "colab": {
      "provenance": [],
      "authorship_tag": "ABX9TyM382ZhJjuusnE9kdfMzjgu",
      "include_colab_link": true
    },
    "kernelspec": {
      "name": "python3",
      "display_name": "Python 3"
    },
    "language_info": {
      "name": "python"
    }
  },
  "cells": [
    {
      "cell_type": "markdown",
      "metadata": {
        "id": "view-in-github",
        "colab_type": "text"
      },
      "source": [
        "<a href=\"https://colab.research.google.com/github/chuter176/Exercise_2025/blob/main/86format_87str.upper.ipynb\" target=\"_parent\"><img src=\"https://colab.research.google.com/assets/colab-badge.svg\" alt=\"Open In Colab\"/></a>"
      ]
    },
    {
      "cell_type": "markdown",
      "source": [
        "format"
      ],
      "metadata": {
        "id": "3DnE7mtR142q"
      }
    },
    {
      "cell_type": "code",
      "execution_count": 2,
      "metadata": {
        "colab": {
          "base_uri": "https://localhost:8080/"
        },
        "id": "i46-rp2jyi3X",
        "outputId": "090477ae-9f20-4a6e-f042-037bc5f6c979"
      },
      "outputs": [
        {
          "output_type": "stream",
          "name": "stdout",
          "text": [
            "001-유비\n",
            "002-관우\n",
            "003-장비\n",
            "004-조운\n",
            "005-제갈량\n"
          ]
        }
      ],
      "source": [
        "names = ['유비','관우','장비','조운','제갈량']\n",
        "for idx, name in enumerate(names,start=1):\n",
        "  order = format(idx,'03')\n",
        "  print(f'{order}-{name}')\n"
      ]
    },
    {
      "cell_type": "markdown",
      "source": [
        "str.upper"
      ],
      "metadata": {
        "id": "lD7Oczc32cER"
      }
    },
    {
      "cell_type": "code",
      "source": [
        "lyrics = 'A lot of Things occur Each Day!'\n",
        "print(lyrics.upper())\n",
        "print(lyrics.lower())\n",
        "print(lyrics)"
      ],
      "metadata": {
        "colab": {
          "base_uri": "https://localhost:8080/"
        },
        "id": "Boli7phg2Drh",
        "outputId": "b64881d3-a1a7-4572-c9f3-f42fdc389e58"
      },
      "execution_count": 3,
      "outputs": [
        {
          "output_type": "stream",
          "name": "stdout",
          "text": [
            "A LOT OF THINGS OCCUR EACH DAY!\n",
            "a lot of things occur each day!\n",
            "A lot of Things occur Each Day!\n"
          ]
        }
      ]
    }
  ]
}