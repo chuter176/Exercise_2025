{
  "nbformat": 4,
  "nbformat_minor": 0,
  "metadata": {
    "colab": {
      "provenance": [],
      "authorship_tag": "ABX9TyNaCApA62xzmdVx9bmnuG0p",
      "include_colab_link": true
    },
    "kernelspec": {
      "name": "python3",
      "display_name": "Python 3"
    },
    "language_info": {
      "name": "python"
    }
  },
  "cells": [
    {
      "cell_type": "markdown",
      "metadata": {
        "id": "view-in-github",
        "colab_type": "text"
      },
      "source": [
        "<a href=\"https://colab.research.google.com/github/chuter176/Exercise_2025/blob/main/84str.replace_85str.zfill.ipynb\" target=\"_parent\"><img src=\"https://colab.research.google.com/assets/colab-badge.svg\" alt=\"Open In Colab\"/></a>"
      ]
    },
    {
      "cell_type": "markdown",
      "source": [
        "str.replace"
      ],
      "metadata": {
        "id": "lEnED_jt9haZ"
      }
    },
    {
      "cell_type": "code",
      "execution_count": 1,
      "metadata": {
        "colab": {
          "base_uri": "https://localhost:8080/"
        },
        "id": "Au1-aKsc9bIK",
        "outputId": "7ace8701-1095-41dd-915f-357b1c861a57"
      },
      "outputs": [
        {
          "output_type": "stream",
          "name": "stdout",
          "text": [
            "택스트: 파이썬에서 시퀀스 자료 중 하나임\n"
          ]
        }
      ],
      "source": [
        "text = '문자열: 파이썬에서 시퀀스 자료 중 하나임'\n",
        "ret = text.replace('문자열','택스트')\n",
        "print(ret)"
      ]
    },
    {
      "cell_type": "code",
      "source": [
        "text = '매일 많은 일들이 일어납니다.'\n",
        "ret = text.replace('일','사건')\n",
        "print(ret)"
      ],
      "metadata": {
        "colab": {
          "base_uri": "https://localhost:8080/"
        },
        "id": "0NJFqJ5CJViB",
        "outputId": "b3c6c508-c0db-42cd-919c-416628fe12d1"
      },
      "execution_count": 2,
      "outputs": [
        {
          "output_type": "stream",
          "name": "stdout",
          "text": [
            "매사건 많은 사건들이 사건어납니다.\n"
          ]
        }
      ]
    },
    {
      "cell_type": "markdown",
      "source": [
        "str.zfill"
      ],
      "metadata": {
        "id": "wPM0UlHFJjHS"
      }
    },
    {
      "cell_type": "code",
      "source": [
        "numData = ['5','27','342','1004']\n",
        "for numstr in numData:\n",
        "  ret = numstr.zfill(4)\n",
        "  print(ret)"
      ],
      "metadata": {
        "colab": {
          "base_uri": "https://localhost:8080/"
        },
        "id": "B7QJbd4oJi4R",
        "outputId": "9b56d97f-6aa9-4e20-9ce0-b1a67470074f"
      },
      "execution_count": 3,
      "outputs": [
        {
          "output_type": "stream",
          "name": "stdout",
          "text": [
            "0005\n",
            "0027\n",
            "0342\n",
            "1004\n"
          ]
        }
      ]
    },
    {
      "cell_type": "code",
      "source": [
        "numData = ['-5','-27','-342','-1004']\n",
        "for numstr in numData:\n",
        "  ret = numstr.zfill(4)\n",
        "  print(ret)"
      ],
      "metadata": {
        "colab": {
          "base_uri": "https://localhost:8080/"
        },
        "id": "VCxPOS6WJief",
        "outputId": "944e9aa1-8144-404c-db12-2808f19bcb7e"
      },
      "execution_count": 4,
      "outputs": [
        {
          "output_type": "stream",
          "name": "stdout",
          "text": [
            "-005\n",
            "-027\n",
            "-342\n",
            "-1004\n"
          ]
        }
      ]
    }
  ]
}